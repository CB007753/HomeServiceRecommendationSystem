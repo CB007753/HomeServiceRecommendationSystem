{
 "cells": [
  {
   "cell_type": "code",
   "execution_count": 1,
   "id": "f569f7b9",
   "metadata": {},
   "outputs": [],
   "source": [
    "import pandas as pd"
   ]
  },
  {
   "cell_type": "code",
   "execution_count": 2,
   "id": "7e795ea4",
   "metadata": {},
   "outputs": [],
   "source": [
    "import matplotlib.pyplot as plt"
   ]
  },
  {
   "cell_type": "code",
   "execution_count": 3,
   "id": "c85377da",
   "metadata": {},
   "outputs": [],
   "source": [
    "import numpy as np"
   ]
  },
  {
   "cell_type": "code",
   "execution_count": 4,
   "id": "f79b9e7b",
   "metadata": {},
   "outputs": [],
   "source": [
    "ds = pd.read_csv(\"plumbers_dataset.csv\")"
   ]
  },
  {
   "cell_type": "code",
   "execution_count": 5,
   "id": "39c5780e",
   "metadata": {
    "scrolled": false
   },
   "outputs": [
    {
     "data": {
      "text/html": [
       "<div>\n",
       "<style scoped>\n",
       "    .dataframe tbody tr th:only-of-type {\n",
       "        vertical-align: middle;\n",
       "    }\n",
       "\n",
       "    .dataframe tbody tr th {\n",
       "        vertical-align: top;\n",
       "    }\n",
       "\n",
       "    .dataframe thead th {\n",
       "        text-align: right;\n",
       "    }\n",
       "</style>\n",
       "<table border=\"1\" class=\"dataframe\">\n",
       "  <thead>\n",
       "    <tr style=\"text-align: right;\">\n",
       "      <th></th>\n",
       "      <th>ID</th>\n",
       "      <th>Name</th>\n",
       "      <th>NIC</th>\n",
       "      <th>Address</th>\n",
       "      <th>City_of_work</th>\n",
       "      <th>Telephone</th>\n",
       "      <th>Occupation</th>\n",
       "      <th>Work</th>\n",
       "      <th>Years of Experience</th>\n",
       "      <th>Age Group</th>\n",
       "      <th>NVQ Level</th>\n",
       "    </tr>\n",
       "  </thead>\n",
       "  <tbody>\n",
       "    <tr>\n",
       "      <th>0</th>\n",
       "      <td>1</td>\n",
       "      <td>A. Yaparoopan</td>\n",
       "      <td>923311459v</td>\n",
       "      <td>Post offcie rd, kattikallar 02</td>\n",
       "      <td>Colombo</td>\n",
       "      <td>772065404</td>\n",
       "      <td>Plumber</td>\n",
       "      <td>Tank Installation and Cleaning</td>\n",
       "      <td>3</td>\n",
       "      <td>Young Adult</td>\n",
       "      <td>Level 3</td>\n",
       "    </tr>\n",
       "    <tr>\n",
       "      <th>1</th>\n",
       "      <td>2</td>\n",
       "      <td>A.B. Mohamed Imran</td>\n",
       "      <td>880890760v</td>\n",
       "      <td>172/c central road, sammanthurai 07</td>\n",
       "      <td>Moratuwa</td>\n",
       "      <td>779510076</td>\n",
       "      <td>Plumber</td>\n",
       "      <td>Kitchen Installations</td>\n",
       "      <td>1</td>\n",
       "      <td>Young</td>\n",
       "      <td>Level 2</td>\n",
       "    </tr>\n",
       "    <tr>\n",
       "      <th>2</th>\n",
       "      <td>3</td>\n",
       "      <td>B.A Rifath</td>\n",
       "      <td>941380891v</td>\n",
       "      <td>182, main street, kankeyanadai</td>\n",
       "      <td>Kandy</td>\n",
       "      <td>752877887</td>\n",
       "      <td>Plumber</td>\n",
       "      <td>Kitchen Repairs and Installations</td>\n",
       "      <td>4</td>\n",
       "      <td>Young Adult</td>\n",
       "      <td>Level 4</td>\n",
       "    </tr>\n",
       "    <tr>\n",
       "      <th>3</th>\n",
       "      <td>4</td>\n",
       "      <td>D.M.I.S chathuranga</td>\n",
       "      <td>930801801v</td>\n",
       "      <td>No. 275 Dolakanda, dehiatthakandiya</td>\n",
       "      <td>Negombo</td>\n",
       "      <td>719891755</td>\n",
       "      <td>Plumber</td>\n",
       "      <td>Kitchen Installations</td>\n",
       "      <td>1</td>\n",
       "      <td>Young</td>\n",
       "      <td>Level 2</td>\n",
       "    </tr>\n",
       "    <tr>\n",
       "      <th>4</th>\n",
       "      <td>5</td>\n",
       "      <td>E. Pirathapan</td>\n",
       "      <td>642762230v</td>\n",
       "      <td>12 avanue, Batticalo</td>\n",
       "      <td>Batticaloa</td>\n",
       "      <td>772045200</td>\n",
       "      <td>Plumber</td>\n",
       "      <td>Kitchen Installations</td>\n",
       "      <td>2</td>\n",
       "      <td>Young</td>\n",
       "      <td>Level 2</td>\n",
       "    </tr>\n",
       "    <tr>\n",
       "      <th>...</th>\n",
       "      <td>...</td>\n",
       "      <td>...</td>\n",
       "      <td>...</td>\n",
       "      <td>...</td>\n",
       "      <td>...</td>\n",
       "      <td>...</td>\n",
       "      <td>...</td>\n",
       "      <td>...</td>\n",
       "      <td>...</td>\n",
       "      <td>...</td>\n",
       "      <td>...</td>\n",
       "    </tr>\n",
       "    <tr>\n",
       "      <th>245</th>\n",
       "      <td>246</td>\n",
       "      <td>W.A. I. Weerasinghe</td>\n",
       "      <td>952581732v</td>\n",
       "      <td>100/5,Ihala Lunugama,Mandawala</td>\n",
       "      <td>Mannar</td>\n",
       "      <td>716880706</td>\n",
       "      <td>Plumber</td>\n",
       "      <td>Bathroom Repairs and Installations</td>\n",
       "      <td>5</td>\n",
       "      <td>Adult</td>\n",
       "      <td>Level 5</td>\n",
       "    </tr>\n",
       "    <tr>\n",
       "      <th>246</th>\n",
       "      <td>247</td>\n",
       "      <td>W.A.?N. Weerasignhe</td>\n",
       "      <td>890103464v</td>\n",
       "      <td>100/5,Ihala Lunugama,Mandawala</td>\n",
       "      <td>Kurunegala</td>\n",
       "      <td>716382806</td>\n",
       "      <td>Plumber</td>\n",
       "      <td>General Plumbing</td>\n",
       "      <td>6</td>\n",
       "      <td>Old</td>\n",
       "      <td>Level 6</td>\n",
       "    </tr>\n",
       "    <tr>\n",
       "      <th>247</th>\n",
       "      <td>248</td>\n",
       "      <td>W.D.C. Rodrigo</td>\n",
       "      <td>772031599v</td>\n",
       "      <td>187/1,Biyagama</td>\n",
       "      <td>Colombo</td>\n",
       "      <td>777839117</td>\n",
       "      <td>Plumber</td>\n",
       "      <td>General Plumbing</td>\n",
       "      <td>7</td>\n",
       "      <td>Old</td>\n",
       "      <td>Level 7</td>\n",
       "    </tr>\n",
       "    <tr>\n",
       "      <th>248</th>\n",
       "      <td>249</td>\n",
       "      <td>W.N.P. Harischandra</td>\n",
       "      <td>661002328v</td>\n",
       "      <td>16/1A,Kanaththa Rd,\\nKuleegedara,\\nKotadeniyawa</td>\n",
       "      <td>Negombo</td>\n",
       "      <td>775539457</td>\n",
       "      <td>Plumber</td>\n",
       "      <td>Bathroom Repairs and Installations</td>\n",
       "      <td>3</td>\n",
       "      <td>Young Adult</td>\n",
       "      <td>Level 5</td>\n",
       "    </tr>\n",
       "    <tr>\n",
       "      <th>249</th>\n",
       "      <td>250</td>\n",
       "      <td>J.M. K. Anushka</td>\n",
       "      <td>200102801v</td>\n",
       "      <td>No.270/7, Sri Wickrama Rajasinghe Rd, Negambo</td>\n",
       "      <td>Kandy</td>\n",
       "      <td>789628367</td>\n",
       "      <td>Plumber</td>\n",
       "      <td>Kitchen Installations</td>\n",
       "      <td>1</td>\n",
       "      <td>Young</td>\n",
       "      <td>Level 2</td>\n",
       "    </tr>\n",
       "  </tbody>\n",
       "</table>\n",
       "<p>250 rows × 11 columns</p>\n",
       "</div>"
      ],
      "text/plain": [
       "      ID                 Name         NIC  \\\n",
       "0      1        A. Yaparoopan  923311459v   \n",
       "1      2   A.B. Mohamed Imran  880890760v   \n",
       "2      3           B.A Rifath  941380891v   \n",
       "3      4  D.M.I.S chathuranga  930801801v   \n",
       "4      5        E. Pirathapan  642762230v   \n",
       "..   ...                  ...         ...   \n",
       "245  246  W.A. I. Weerasinghe  952581732v   \n",
       "246  247  W.A.?N. Weerasignhe  890103464v   \n",
       "247  248       W.D.C. Rodrigo  772031599v   \n",
       "248  249  W.N.P. Harischandra  661002328v   \n",
       "249  250      J.M. K. Anushka  200102801v   \n",
       "\n",
       "                                             Address City_of_work  Telephone  \\\n",
       "0                     Post offcie rd, kattikallar 02      Colombo  772065404   \n",
       "1                172/c central road, sammanthurai 07     Moratuwa  779510076   \n",
       "2                     182, main street, kankeyanadai        Kandy  752877887   \n",
       "3                No. 275 Dolakanda, dehiatthakandiya      Negombo  719891755   \n",
       "4                               12 avanue, Batticalo   Batticaloa  772045200   \n",
       "..                                               ...          ...        ...   \n",
       "245                   100/5,Ihala Lunugama,Mandawala       Mannar  716880706   \n",
       "246                   100/5,Ihala Lunugama,Mandawala   Kurunegala  716382806   \n",
       "247                                   187/1,Biyagama      Colombo  777839117   \n",
       "248  16/1A,Kanaththa Rd,\\nKuleegedara,\\nKotadeniyawa      Negombo  775539457   \n",
       "249    No.270/7, Sri Wickrama Rajasinghe Rd, Negambo        Kandy  789628367   \n",
       "\n",
       "    Occupation                                Work  Years of Experience  \\\n",
       "0      Plumber      Tank Installation and Cleaning                    3   \n",
       "1      Plumber               Kitchen Installations                    1   \n",
       "2      Plumber   Kitchen Repairs and Installations                    4   \n",
       "3      Plumber               Kitchen Installations                    1   \n",
       "4      Plumber               Kitchen Installations                    2   \n",
       "..         ...                                 ...                  ...   \n",
       "245    Plumber  Bathroom Repairs and Installations                    5   \n",
       "246    Plumber                    General Plumbing                    6   \n",
       "247    Plumber                    General Plumbing                    7   \n",
       "248    Plumber  Bathroom Repairs and Installations                    3   \n",
       "249    Plumber               Kitchen Installations                    1   \n",
       "\n",
       "       Age Group NVQ Level  \n",
       "0    Young Adult   Level 3  \n",
       "1         Young   Level 2   \n",
       "2    Young Adult   Level 4  \n",
       "3          Young   Level 2  \n",
       "4          Young   Level 2  \n",
       "..           ...       ...  \n",
       "245        Adult   Level 5  \n",
       "246          Old   Level 6  \n",
       "247          Old   Level 7  \n",
       "248  Young Adult   Level 5  \n",
       "249       Young   Level 2   \n",
       "\n",
       "[250 rows x 11 columns]"
      ]
     },
     "execution_count": 5,
     "metadata": {},
     "output_type": "execute_result"
    }
   ],
   "source": [
    "ds.head(250)"
   ]
  },
  {
   "cell_type": "code",
   "execution_count": 6,
   "id": "7c7a94c0",
   "metadata": {},
   "outputs": [
    {
     "data": {
      "text/html": [
       "<div>\n",
       "<style scoped>\n",
       "    .dataframe tbody tr th:only-of-type {\n",
       "        vertical-align: middle;\n",
       "    }\n",
       "\n",
       "    .dataframe tbody tr th {\n",
       "        vertical-align: top;\n",
       "    }\n",
       "\n",
       "    .dataframe thead th {\n",
       "        text-align: right;\n",
       "    }\n",
       "</style>\n",
       "<table border=\"1\" class=\"dataframe\">\n",
       "  <thead>\n",
       "    <tr style=\"text-align: right;\">\n",
       "      <th></th>\n",
       "      <th>ID</th>\n",
       "      <th>Name</th>\n",
       "      <th>Telephone</th>\n",
       "      <th>City_of_work</th>\n",
       "      <th>Work</th>\n",
       "      <th>Years of Experience</th>\n",
       "      <th>Age Group</th>\n",
       "      <th>NVQ Level</th>\n",
       "    </tr>\n",
       "  </thead>\n",
       "  <tbody>\n",
       "    <tr>\n",
       "      <th>0</th>\n",
       "      <td>1</td>\n",
       "      <td>A. Yaparoopan</td>\n",
       "      <td>772065404</td>\n",
       "      <td>Colombo</td>\n",
       "      <td>Tank Installation and Cleaning</td>\n",
       "      <td>3</td>\n",
       "      <td>Young Adult</td>\n",
       "      <td>Level 3</td>\n",
       "    </tr>\n",
       "    <tr>\n",
       "      <th>1</th>\n",
       "      <td>2</td>\n",
       "      <td>A.B. Mohamed Imran</td>\n",
       "      <td>779510076</td>\n",
       "      <td>Moratuwa</td>\n",
       "      <td>Kitchen Installations</td>\n",
       "      <td>1</td>\n",
       "      <td>Young</td>\n",
       "      <td>Level 2</td>\n",
       "    </tr>\n",
       "    <tr>\n",
       "      <th>2</th>\n",
       "      <td>3</td>\n",
       "      <td>B.A Rifath</td>\n",
       "      <td>752877887</td>\n",
       "      <td>Kandy</td>\n",
       "      <td>Kitchen Repairs and Installations</td>\n",
       "      <td>4</td>\n",
       "      <td>Young Adult</td>\n",
       "      <td>Level 4</td>\n",
       "    </tr>\n",
       "    <tr>\n",
       "      <th>3</th>\n",
       "      <td>4</td>\n",
       "      <td>D.M.I.S chathuranga</td>\n",
       "      <td>719891755</td>\n",
       "      <td>Negombo</td>\n",
       "      <td>Kitchen Installations</td>\n",
       "      <td>1</td>\n",
       "      <td>Young</td>\n",
       "      <td>Level 2</td>\n",
       "    </tr>\n",
       "    <tr>\n",
       "      <th>4</th>\n",
       "      <td>5</td>\n",
       "      <td>E. Pirathapan</td>\n",
       "      <td>772045200</td>\n",
       "      <td>Batticaloa</td>\n",
       "      <td>Kitchen Installations</td>\n",
       "      <td>2</td>\n",
       "      <td>Young</td>\n",
       "      <td>Level 2</td>\n",
       "    </tr>\n",
       "  </tbody>\n",
       "</table>\n",
       "</div>"
      ],
      "text/plain": [
       "   ID                 Name  Telephone City_of_work  \\\n",
       "0   1        A. Yaparoopan  772065404      Colombo   \n",
       "1   2   A.B. Mohamed Imran  779510076     Moratuwa   \n",
       "2   3           B.A Rifath  752877887        Kandy   \n",
       "3   4  D.M.I.S chathuranga  719891755      Negombo   \n",
       "4   5        E. Pirathapan  772045200   Batticaloa   \n",
       "\n",
       "                                Work  Years of Experience    Age Group  \\\n",
       "0     Tank Installation and Cleaning                    3  Young Adult   \n",
       "1              Kitchen Installations                    1       Young    \n",
       "2  Kitchen Repairs and Installations                    4  Young Adult   \n",
       "3              Kitchen Installations                    1        Young   \n",
       "4              Kitchen Installations                    2        Young   \n",
       "\n",
       "  NVQ Level  \n",
       "0   Level 3  \n",
       "1  Level 2   \n",
       "2   Level 4  \n",
       "3   Level 2  \n",
       "4   Level 2  "
      ]
     },
     "execution_count": 6,
     "metadata": {},
     "output_type": "execute_result"
    }
   ],
   "source": [
    "ds = ds[[\"ID\",\"Name\",\"Telephone\",\"City_of_work\", \"Work\", \"Years of Experience\", \"Age Group\", \"NVQ Level\"]]\n",
    "ds = ds.rename({\"ConvertedComp\": \"Plumbers\"}, axis=1)\n",
    "ds.head()"
   ]
  },
  {
   "cell_type": "code",
   "execution_count": 7,
   "id": "968c7921",
   "metadata": {},
   "outputs": [
    {
     "data": {
      "text/plain": [
       "(250, 8)"
      ]
     },
     "execution_count": 7,
     "metadata": {},
     "output_type": "execute_result"
    }
   ],
   "source": [
    "ds.shape"
   ]
  },
  {
   "cell_type": "code",
   "execution_count": 8,
   "id": "3465264a",
   "metadata": {},
   "outputs": [
    {
     "name": "stdout",
     "output_type": "stream",
     "text": [
      "<class 'pandas.core.frame.DataFrame'>\n",
      "RangeIndex: 250 entries, 0 to 249\n",
      "Data columns (total 8 columns):\n",
      " #   Column               Non-Null Count  Dtype \n",
      "---  ------               --------------  ----- \n",
      " 0   ID                   250 non-null    int64 \n",
      " 1   Name                 250 non-null    object\n",
      " 2   Telephone            250 non-null    int64 \n",
      " 3   City_of_work         250 non-null    object\n",
      " 4   Work                 250 non-null    object\n",
      " 5   Years of Experience  250 non-null    int64 \n",
      " 6   Age Group            250 non-null    object\n",
      " 7   NVQ Level            250 non-null    object\n",
      "dtypes: int64(3), object(5)\n",
      "memory usage: 15.8+ KB\n"
     ]
    }
   ],
   "source": [
    "ds.info()"
   ]
  },
  {
   "cell_type": "code",
   "execution_count": 9,
   "id": "dc8b96c6",
   "metadata": {},
   "outputs": [
    {
     "data": {
      "text/plain": [
       "ID                     0\n",
       "Name                   0\n",
       "Telephone              0\n",
       "City_of_work           0\n",
       "Work                   0\n",
       "Years of Experience    0\n",
       "Age Group              0\n",
       "NVQ Level              0\n",
       "dtype: int64"
      ]
     },
     "execution_count": 9,
     "metadata": {},
     "output_type": "execute_result"
    }
   ],
   "source": [
    "ds = ds.dropna()\n",
    "ds.isnull().sum()"
   ]
  },
  {
   "cell_type": "code",
   "execution_count": 10,
   "id": "e930015f",
   "metadata": {},
   "outputs": [
    {
     "data": {
      "text/plain": [
       "Colombo                      14\n",
       "Kandy                        14\n",
       "Negombo                      14\n",
       "Anuradhapura                 13\n",
       "Mannar                       13\n",
       "Matale                       13\n",
       "Mullaittivu                  13\n",
       "Badulla                      13\n",
       "Puttalam                     13\n",
       "Ratnapura                    13\n",
       "Jaffna                       13\n",
       "Matara                       13\n",
       "Moratuwa                     13\n",
       "Trincomalee                  13\n",
       "Galle                        13\n",
       "Kilinochchi                  13\n",
       "Sri Jayewardenepura Kotte    13\n",
       "Batticaloa                   13\n",
       "Kurunegala                   13\n",
       "Name: City_of_work, dtype: int64"
      ]
     },
     "execution_count": 10,
     "metadata": {},
     "output_type": "execute_result"
    }
   ],
   "source": [
    "ds['City_of_work'].value_counts()"
   ]
  },
  {
   "cell_type": "code",
   "execution_count": 11,
   "id": "31dd898b",
   "metadata": {},
   "outputs": [
    {
     "data": {
      "text/plain": [
       "General Plumbing                      65\n",
       "Kitchen Installations                 52\n",
       "Bathroom Repairs and Installations    43\n",
       "Tank Installation and Cleaning        42\n",
       "Kitchen Repairs and Installations     33\n",
       "Bathroom Fittings                     15\n",
       "Name: Work, dtype: int64"
      ]
     },
     "execution_count": 11,
     "metadata": {},
     "output_type": "execute_result"
    }
   ],
   "source": [
    "ds['Work'].value_counts()"
   ]
  },
  {
   "cell_type": "code",
   "execution_count": 12,
   "id": "e38273ff",
   "metadata": {},
   "outputs": [
    {
     "data": {
      "text/plain": [
       "1    51\n",
       "5    50\n",
       "4    48\n",
       "6    37\n",
       "3    26\n",
       "2    25\n",
       "7    13\n",
       "Name: Years of Experience, dtype: int64"
      ]
     },
     "execution_count": 12,
     "metadata": {},
     "output_type": "execute_result"
    }
   ],
   "source": [
    "ds['Years of Experience'].value_counts()"
   ]
  },
  {
   "cell_type": "code",
   "execution_count": 13,
   "id": "1ab80d24",
   "metadata": {},
   "outputs": [
    {
     "data": {
      "text/plain": [
       "Young Adult    74\n",
       "Young          50\n",
       "Adult          50\n",
       "Old            50\n",
       "Young          26\n",
       "Name: Age Group, dtype: int64"
      ]
     },
     "execution_count": 13,
     "metadata": {},
     "output_type": "execute_result"
    }
   ],
   "source": [
    "ds['Age Group'].value_counts()"
   ]
  },
  {
   "cell_type": "code",
   "execution_count": 14,
   "id": "b4402896",
   "metadata": {},
   "outputs": [
    {
     "data": {
      "text/plain": [
       "Colombo                      14\n",
       "Kandy                        14\n",
       "Negombo                      14\n",
       "Anuradhapura                 13\n",
       "Mannar                       13\n",
       "Matale                       13\n",
       "Mullaittivu                  13\n",
       "Badulla                      13\n",
       "Puttalam                     13\n",
       "Ratnapura                    13\n",
       "Jaffna                       13\n",
       "Matara                       13\n",
       "Moratuwa                     13\n",
       "Trincomalee                  13\n",
       "Galle                        13\n",
       "Kilinochchi                  13\n",
       "Sri Jayewardenepura Kotte    13\n",
       "Batticaloa                   13\n",
       "Kurunegala                   13\n",
       "Name: City_of_work, dtype: int64"
      ]
     },
     "execution_count": 14,
     "metadata": {},
     "output_type": "execute_result"
    }
   ],
   "source": [
    "ds['City_of_work'].value_counts()"
   ]
  },
  {
   "cell_type": "code",
   "execution_count": 15,
   "id": "bcc86290",
   "metadata": {},
   "outputs": [
    {
     "name": "stdout",
     "output_type": "stream",
     "text": [
      "0          Tank Installation and Cleaning\n",
      "1                   Kitchen Installations\n",
      "2       Kitchen Repairs and Installations\n",
      "3                   Kitchen Installations\n",
      "4                   Kitchen Installations\n",
      "                      ...                \n",
      "245    Bathroom Repairs and Installations\n",
      "246                      General Plumbing\n",
      "247                      General Plumbing\n",
      "248    Bathroom Repairs and Installations\n",
      "249                 Kitchen Installations\n",
      "Name: Work, Length: 250, dtype: object\n"
     ]
    }
   ],
   "source": [
    "x=ds.Work\n",
    "y=ds['Years of Experience']\n",
    "print(x)\n"
   ]
  },
  {
   "cell_type": "code",
   "execution_count": 16,
   "id": "5f4409cd",
   "metadata": {},
   "outputs": [
    {
     "name": "stdout",
     "output_type": "stream",
     "text": [
      "0      3\n",
      "1      1\n",
      "2      4\n",
      "3      1\n",
      "4      2\n",
      "      ..\n",
      "245    5\n",
      "246    6\n",
      "247    7\n",
      "248    3\n",
      "249    1\n",
      "Name: Years of Experience, Length: 250, dtype: int64\n"
     ]
    }
   ],
   "source": [
    "print(y)"
   ]
  },
  {
   "cell_type": "code",
   "execution_count": 17,
   "id": "f2fdf55b",
   "metadata": {},
   "outputs": [
    {
     "data": {
      "text/html": [
       "<div>\n",
       "<style scoped>\n",
       "    .dataframe tbody tr th:only-of-type {\n",
       "        vertical-align: middle;\n",
       "    }\n",
       "\n",
       "    .dataframe tbody tr th {\n",
       "        vertical-align: top;\n",
       "    }\n",
       "\n",
       "    .dataframe thead th {\n",
       "        text-align: right;\n",
       "    }\n",
       "</style>\n",
       "<table border=\"1\" class=\"dataframe\">\n",
       "  <thead>\n",
       "    <tr style=\"text-align: right;\">\n",
       "      <th></th>\n",
       "      <th>ID</th>\n",
       "      <th>Name</th>\n",
       "      <th>Telephone</th>\n",
       "      <th>City_of_work</th>\n",
       "      <th>Work</th>\n",
       "      <th>Years of Experience</th>\n",
       "      <th>Age Group</th>\n",
       "      <th>NVQ Level</th>\n",
       "    </tr>\n",
       "  </thead>\n",
       "  <tbody>\n",
       "    <tr>\n",
       "      <th>0</th>\n",
       "      <td>1</td>\n",
       "      <td>A. Yaparoopan</td>\n",
       "      <td>772065404</td>\n",
       "      <td>Colombo</td>\n",
       "      <td>Tank Installation and Cleaning</td>\n",
       "      <td>3</td>\n",
       "      <td>Young Adult</td>\n",
       "      <td>Level 3</td>\n",
       "    </tr>\n",
       "    <tr>\n",
       "      <th>1</th>\n",
       "      <td>2</td>\n",
       "      <td>A.B. Mohamed Imran</td>\n",
       "      <td>779510076</td>\n",
       "      <td>Moratuwa</td>\n",
       "      <td>Kitchen Installations</td>\n",
       "      <td>1</td>\n",
       "      <td>Young</td>\n",
       "      <td>Level 2</td>\n",
       "    </tr>\n",
       "    <tr>\n",
       "      <th>2</th>\n",
       "      <td>3</td>\n",
       "      <td>B.A Rifath</td>\n",
       "      <td>752877887</td>\n",
       "      <td>Kandy</td>\n",
       "      <td>Kitchen Repairs and Installations</td>\n",
       "      <td>4</td>\n",
       "      <td>Young Adult</td>\n",
       "      <td>Level 4</td>\n",
       "    </tr>\n",
       "    <tr>\n",
       "      <th>3</th>\n",
       "      <td>4</td>\n",
       "      <td>D.M.I.S chathuranga</td>\n",
       "      <td>719891755</td>\n",
       "      <td>Negombo</td>\n",
       "      <td>Kitchen Installations</td>\n",
       "      <td>1</td>\n",
       "      <td>Young</td>\n",
       "      <td>Level 2</td>\n",
       "    </tr>\n",
       "    <tr>\n",
       "      <th>4</th>\n",
       "      <td>5</td>\n",
       "      <td>E. Pirathapan</td>\n",
       "      <td>772045200</td>\n",
       "      <td>Batticaloa</td>\n",
       "      <td>Kitchen Installations</td>\n",
       "      <td>2</td>\n",
       "      <td>Young</td>\n",
       "      <td>Level 2</td>\n",
       "    </tr>\n",
       "  </tbody>\n",
       "</table>\n",
       "</div>"
      ],
      "text/plain": [
       "   ID                 Name  Telephone City_of_work  \\\n",
       "0   1        A. Yaparoopan  772065404      Colombo   \n",
       "1   2   A.B. Mohamed Imran  779510076     Moratuwa   \n",
       "2   3           B.A Rifath  752877887        Kandy   \n",
       "3   4  D.M.I.S chathuranga  719891755      Negombo   \n",
       "4   5        E. Pirathapan  772045200   Batticaloa   \n",
       "\n",
       "                                Work  Years of Experience    Age Group  \\\n",
       "0     Tank Installation and Cleaning                    3  Young Adult   \n",
       "1              Kitchen Installations                    1       Young    \n",
       "2  Kitchen Repairs and Installations                    4  Young Adult   \n",
       "3              Kitchen Installations                    1        Young   \n",
       "4              Kitchen Installations                    2        Young   \n",
       "\n",
       "  NVQ Level  \n",
       "0   Level 3  \n",
       "1  Level 2   \n",
       "2   Level 4  \n",
       "3   Level 2  \n",
       "4   Level 2  "
      ]
     },
     "execution_count": 17,
     "metadata": {},
     "output_type": "execute_result"
    }
   ],
   "source": [
    "ds.head()"
   ]
  },
  {
   "cell_type": "code",
   "execution_count": 18,
   "id": "4d81f01a",
   "metadata": {},
   "outputs": [
    {
     "data": {
      "text/plain": [
       "<AxesSubplot:>"
      ]
     },
     "execution_count": 18,
     "metadata": {},
     "output_type": "execute_result"
    },
    {
     "data": {
      "image/png": "[encoded data removed]",
      "text/plain": [
       "<Figure size 720x360 with 1 Axes>"
      ]
     },
     "metadata": {
      "needs_background": "light"
     },
     "output_type": "display_data"
    }
   ],
   "source": [
    "ds['Years of Experience'].value_counts().plot(x = 'Years of Experience', y ='count', kind = 'bar', figsize = (10,5)  )"
   ]
  },
  {
   "cell_type": "code",
   "execution_count": 19,
   "id": "608207ea",
   "metadata": {},
   "outputs": [
    {
     "data": {
      "text/plain": [
       "<AxesSubplot:>"
      ]
     },
     "execution_count": 19,
     "metadata": {},
     "output_type": "execute_result"
    },
    {
     "data": {
      "image/png": "[encoded data removed]",
      "text/plain": [
       "<Figure size 720x360 with 1 Axes>"
      ]
     },
     "metadata": {
      "needs_background": "light"
     },
     "output_type": "display_data"
    }
   ],
   "source": [
    "ds['Work'].value_counts().plot(x = 'Work', y ='count', kind = 'bar', figsize = (10,5)  )"
   ]
  },
  {
   "cell_type": "code",
   "execution_count": 20,
   "id": "73a60159",
   "metadata": {
    "scrolled": false
   },
   "outputs": [
    {
     "data": {
      "text/html": [
       "<div>\n",
       "<style scoped>\n",
       "    .dataframe tbody tr th:only-of-type {\n",
       "        vertical-align: middle;\n",
       "    }\n",
       "\n",
       "    .dataframe tbody tr th {\n",
       "        vertical-align: top;\n",
       "    }\n",
       "\n",
       "    .dataframe thead th {\n",
       "        text-align: right;\n",
       "    }\n",
       "</style>\n",
       "<table border=\"1\" class=\"dataframe\">\n",
       "  <thead>\n",
       "    <tr style=\"text-align: right;\">\n",
       "      <th></th>\n",
       "      <th>ID</th>\n",
       "      <th>Name</th>\n",
       "      <th>Telephone</th>\n",
       "      <th>City_of_work</th>\n",
       "      <th>Work</th>\n",
       "      <th>Years of Experience</th>\n",
       "      <th>Age Group</th>\n",
       "      <th>NVQ Level</th>\n",
       "    </tr>\n",
       "  </thead>\n",
       "  <tbody>\n",
       "    <tr>\n",
       "      <th>0</th>\n",
       "      <td>1</td>\n",
       "      <td>A. Yaparoopan</td>\n",
       "      <td>772065404</td>\n",
       "      <td>Colombo</td>\n",
       "      <td>Tank Installation and Cleaning</td>\n",
       "      <td>3</td>\n",
       "      <td>Young Adult</td>\n",
       "      <td>Level 3</td>\n",
       "    </tr>\n",
       "    <tr>\n",
       "      <th>1</th>\n",
       "      <td>2</td>\n",
       "      <td>A.B. Mohamed Imran</td>\n",
       "      <td>779510076</td>\n",
       "      <td>Moratuwa</td>\n",
       "      <td>Kitchen Installations</td>\n",
       "      <td>1</td>\n",
       "      <td>Young</td>\n",
       "      <td>Level 2</td>\n",
       "    </tr>\n",
       "    <tr>\n",
       "      <th>2</th>\n",
       "      <td>3</td>\n",
       "      <td>B.A Rifath</td>\n",
       "      <td>752877887</td>\n",
       "      <td>Kandy</td>\n",
       "      <td>Kitchen Repairs and Installations</td>\n",
       "      <td>4</td>\n",
       "      <td>Young Adult</td>\n",
       "      <td>Level 4</td>\n",
       "    </tr>\n",
       "    <tr>\n",
       "      <th>3</th>\n",
       "      <td>4</td>\n",
       "      <td>D.M.I.S chathuranga</td>\n",
       "      <td>719891755</td>\n",
       "      <td>Negombo</td>\n",
       "      <td>Kitchen Installations</td>\n",
       "      <td>1</td>\n",
       "      <td>Young</td>\n",
       "      <td>Level 2</td>\n",
       "    </tr>\n",
       "    <tr>\n",
       "      <th>4</th>\n",
       "      <td>5</td>\n",
       "      <td>E. Pirathapan</td>\n",
       "      <td>772045200</td>\n",
       "      <td>Batticaloa</td>\n",
       "      <td>Kitchen Installations</td>\n",
       "      <td>2</td>\n",
       "      <td>Young</td>\n",
       "      <td>Level 2</td>\n",
       "    </tr>\n",
       "  </tbody>\n",
       "</table>\n",
       "</div>"
      ],
      "text/plain": [
       "   ID                 Name  Telephone City_of_work  \\\n",
       "0   1        A. Yaparoopan  772065404      Colombo   \n",
       "1   2   A.B. Mohamed Imran  779510076     Moratuwa   \n",
       "2   3           B.A Rifath  752877887        Kandy   \n",
       "3   4  D.M.I.S chathuranga  719891755      Negombo   \n",
       "4   5        E. Pirathapan  772045200   Batticaloa   \n",
       "\n",
       "                                Work  Years of Experience    Age Group  \\\n",
       "0     Tank Installation and Cleaning                    3  Young Adult   \n",
       "1              Kitchen Installations                    1       Young    \n",
       "2  Kitchen Repairs and Installations                    4  Young Adult   \n",
       "3              Kitchen Installations                    1        Young   \n",
       "4              Kitchen Installations                    2        Young   \n",
       "\n",
       "  NVQ Level  \n",
       "0   Level 3  \n",
       "1  Level 2   \n",
       "2   Level 4  \n",
       "3   Level 2  \n",
       "4   Level 2  "
      ]
     },
     "execution_count": 20,
     "metadata": {},
     "output_type": "execute_result"
    }
   ],
   "source": [
    "ds.head()"
   ]
  },
  {
   "cell_type": "code",
   "execution_count": 21,
   "id": "cd581d29",
   "metadata": {},
   "outputs": [
    {
     "name": "stderr",
     "output_type": "stream",
     "text": [
      "[nltk_data] Downloading package stopwords to\n",
      "[nltk_data]     C:\\Users\\CRIMINAL\\AppData\\Roaming\\nltk_data...\n",
      "[nltk_data]   Package stopwords is already up-to-date!\n"
     ]
    },
    {
     "data": {
      "text/plain": [
       "True"
      ]
     },
     "execution_count": 21,
     "metadata": {},
     "output_type": "execute_result"
    }
   ],
   "source": [
    "import nltk\n",
    "nltk.download('stopwords')"
   ]
  },
  {
   "cell_type": "code",
   "execution_count": 22,
   "id": "05bd0014",
   "metadata": {},
   "outputs": [],
   "source": [
    "from nltk.corpus import stopwords"
   ]
  },
  {
   "cell_type": "code",
   "execution_count": 23,
   "id": "80ce1e60",
   "metadata": {},
   "outputs": [],
   "source": [
    "#Data preprocessing\n",
    "\n",
    "# Function for removing NonAscii characters\n",
    "def _removeNonAscii(s):\n",
    "    return \"\".join(i for i in s if  ord(i)<128)\n",
    "\n",
    "# Function for converting into lower case\n",
    "def make_lower_case(text):\n",
    "    return text.lower()\n",
    "\n",
    "# Function for removing stop words(eg:'is','the', etc..)\n",
    "def remove_stop_words(text):\n",
    "    text = text.split()\n",
    "    stops = set(stopwords.words(\"english\"))\n",
    "    text = [w for w in text if not w in stops]\n",
    "    text = \" \".join(text)\n",
    "    return text\n",
    "\n",
    "# Applying all the functions in description and storing as a cleaned_desc\n",
    "ds['cleaned_work'] = ds['Work'].apply(_removeNonAscii)\n",
    "ds['cleaned_work'] = ds.cleaned_work.apply(func = make_lower_case)\n",
    "ds['cleaned_work'] = ds.cleaned_work.apply(func = remove_stop_words)\n"
   ]
  },
  {
   "cell_type": "code",
   "execution_count": 24,
   "id": "a85ec4c7",
   "metadata": {},
   "outputs": [
    {
     "data": {
      "text/plain": [
       "0       tank installation cleaning\n",
       "1            kitchen installations\n",
       "2    kitchen repairs installations\n",
       "3            kitchen installations\n",
       "4            kitchen installations\n",
       "Name: cleaned_work, dtype: object"
      ]
     },
     "execution_count": 24,
     "metadata": {},
     "output_type": "execute_result"
    }
   ],
   "source": [
    "ds['cleaned_work'].head()"
   ]
  },
  {
   "cell_type": "code",
   "execution_count": 25,
   "id": "e17848a1",
   "metadata": {},
   "outputs": [],
   "source": [
    "from sklearn.feature_extraction.text import CountVectorizer"
   ]
  },
  {
   "cell_type": "code",
   "execution_count": 26,
   "id": "9322029d",
   "metadata": {},
   "outputs": [
    {
     "data": {
      "text/plain": [
       "0       Tank Installation and Cleaning\n",
       "1                Kitchen Installations\n",
       "2    Kitchen Repairs and Installations\n",
       "3                Kitchen Installations\n",
       "4                Kitchen Installations\n",
       "Name: Work, dtype: object"
      ]
     },
     "execution_count": 26,
     "metadata": {},
     "output_type": "execute_result"
    }
   ],
   "source": [
    "# instantiating and generating the count matrix\n",
    "count = CountVectorizer()\n",
    "count_matrix = count.fit_transform(ds['cleaned_work'])\n",
    "\n",
    "# creating a Series for the Service Provider Names so they are associated to an ordered numerical\n",
    "# list which I will use later to match the indexes\n",
    "indices = pd.Series(ds.Work)\n",
    "indices[:5]"
   ]
  },
  {
   "cell_type": "code",
   "execution_count": 27,
   "id": "71e13431",
   "metadata": {},
   "outputs": [],
   "source": [
    "from sklearn.metrics.pairwise import cosine_similarity"
   ]
  },
  {
   "cell_type": "code",
   "execution_count": 28,
   "id": "20934a0d",
   "metadata": {},
   "outputs": [
    {
     "data": {
      "text/plain": [
       "array([[1.        , 0.        , 0.        , ..., 0.        , 0.        ,\n",
       "        0.        ],\n",
       "       [0.        , 1.        , 0.81649658, ..., 0.        , 0.40824829,\n",
       "        1.        ],\n",
       "       [0.        , 0.81649658, 1.        , ..., 0.        , 0.66666667,\n",
       "        0.81649658],\n",
       "       ...,\n",
       "       [0.        , 0.        , 0.        , ..., 1.        , 0.        ,\n",
       "        0.        ],\n",
       "       [0.        , 0.40824829, 0.66666667, ..., 0.        , 1.        ,\n",
       "        0.40824829],\n",
       "       [0.        , 1.        , 0.81649658, ..., 0.        , 0.40824829,\n",
       "        1.        ]])"
      ]
     },
     "execution_count": 28,
     "metadata": {},
     "output_type": "execute_result"
    }
   ],
   "source": [
    "# generating the cosine similarity matrix\n",
    "cosine_sim = cosine_similarity(count_matrix, count_matrix)\n",
    "cosine_sim"
   ]
  },
  {
   "cell_type": "code",
   "execution_count": 30,
   "id": "cc36b8d8",
   "metadata": {},
   "outputs": [],
   "source": [
    "# function that takes in the work of service provider as input and returns the top 5 recommended service providers\n",
    "def recommendations(Work, cosine_sim = cosine_sim):\n",
    "    \n",
    "    recommended_city = []\n",
    "    recommended_name = []\n",
    "    recommended_work = []\n",
    "    recommended_exp = []\n",
    "    recommended_id = []\n",
    "    recommend =[]\n",
    "    \n",
    "    # gettin the index of the service providers that matches the work\n",
    "    idx = indices[indices == Work].index[0]\n",
    "\n",
    "    # creating a Series with the similarity scores in descending order\n",
    "    score_series = pd.Series(cosine_sim[idx]).sort_values(ascending = False)\n",
    "\n",
    "    # getting the indexes of the 5 most similar service providers\n",
    "    top_5_indexes = list(score_series.iloc[1:6].index)\n",
    "    \n",
    "    # populating the list with the name,city,work and experience of the best 5 matching service providers\n",
    "    for i in top_5_indexes:\n",
    "        recommended_city.append(list(ds['City_of_work'])[i])\n",
    "        recommended_name.append(list(ds['Name'])[i])\n",
    "        recommended_work.append(list(ds['Work'])[i])\n",
    "        recommended_exp.append(list(ds['Years of Experience'])[i])\n",
    "        recommended_id.append(list(ds['ID'])[i])\n",
    "        \n",
    "        recommend = recommended_id,recommended_name,recommended_city,recommended_work,recommended_exp\n",
    "        \n",
    "    return recommend"
   ]
  },
  {
   "cell_type": "code",
   "execution_count": 35,
   "id": "b62b5c24",
   "metadata": {},
   "outputs": [
    {
     "data": {
      "text/plain": [
       "([32, 34, 192, 72, 184],\n",
       " ['B.G.P.Senaka Chandrawansa',\n",
       "  'D.G.O.S.K Amarawansa',\n",
       "  'Mr.S.L.Rumesh Mihiran',\n",
       "  'Kagara Mudiyanselage\\nDamith Ruwan Aththanayake',\n",
       "  'Mr.L.P.Hemantha Sirinihal'],\n",
       " ['Ratnapura', 'Badulla', 'Moratuwa', 'Badulla', 'Ratnapura'],\n",
       " ['Kitchen Installations',\n",
       "  'Kitchen Installations',\n",
       "  'Kitchen Installations',\n",
       "  'Kitchen Installations',\n",
       "  'Kitchen Installations'],\n",
       " [1, 1, 1, 1, 1])"
      ]
     },
     "execution_count": 35,
     "metadata": {},
     "output_type": "execute_result"
    }
   ],
   "source": [
    "recommendations('Kitchen Installations')"
   ]
  },
  {
   "cell_type": "code",
   "execution_count": 41,
   "id": "643090e5",
   "metadata": {},
   "outputs": [],
   "source": [
    "import pickle\n",
    "recommend_work_object = recommendations\n",
    "filename = 'work_recommendation'\n",
    "pickle.dump(recommend_work_object, open(filename,'wb'))"
   ]
  },
  {
   "cell_type": "code",
   "execution_count": 42,
   "id": "687bba98",
   "metadata": {},
   "outputs": [
    {
     "data": {
      "text/plain": [
       "32"
      ]
     },
     "execution_count": 42,
     "metadata": {},
     "output_type": "execute_result"
    }
   ],
   "source": [
    "loaded_engine2 = pickle.load(open('work_recommendation','rb'))\n",
    "loaded_engine2('Kitchen Installations')[0][0]"
   ]
  }
 ],
 "metadata": {
  "kernelspec": {
   "display_name": "Python 3 (ipykernel)",
   "language": "python",
   "name": "python3"
  },
  "language_info": {
   "codemirror_mode": {
    "name": "ipython",
    "version": 3
   },
   "file_extension": ".py",
   "mimetype": "text/x-python",
   "name": "python",
   "nbconvert_exporter": "python",
   "pygments_lexer": "ipython3",
   "version": "3.9.7"
  }
 },
 "nbformat": 4,
 "nbformat_minor": 5
}
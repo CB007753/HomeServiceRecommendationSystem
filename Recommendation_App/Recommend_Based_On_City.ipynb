{
 "cells": [
  {
   "cell_type": "code",
   "execution_count": 1,
   "id": "b4cd538d",
   "metadata": {},
   "outputs": [],
   "source": [
    "import pandas as pd"
   ]
  },
  {
   "cell_type": "code",
   "execution_count": 2,
   "id": "c58a15b3",
   "metadata": {},
   "outputs": [],
   "source": [
    "import matplotlib.pyplot as plt"
   ]
  },
  {
   "cell_type": "code",
   "execution_count": 3,
   "id": "25c3fe5e",
   "metadata": {},
   "outputs": [],
   "source": [
    "import numpy as np"
   ]
  },
  {
   "cell_type": "code",
   "execution_count": 4,
   "id": "020ae9fe",
   "metadata": {},
   "outputs": [],
   "source": [
    "ds = pd.read_csv(\"plumbers_dataset.csv\")"
   ]
  },
  {
   "cell_type": "code",
   "execution_count": 5,
   "id": "d7d6c268",
   "metadata": {},
   "outputs": [
    {
     "data": {
      "text/plain": "      ID                 Name         NIC  \\\n0      1        A. Yaparoopan  923311459v   \n1      2   A.B. Mohamed Imran  880890760v   \n2      3           B.A Rifath  941380891v   \n3      4  D.M.I.S chathuranga  930801801v   \n4      5        E. Pirathapan  642762230v   \n..   ...                  ...         ...   \n245  246  W.A. I. Weerasinghe  952581732v   \n246  247  W.A.?N. Weerasignhe  890103464v   \n247  248       W.D.C. Rodrigo  772031599v   \n248  249  W.N.P. Harischandra  661002328v   \n249  250      J.M. K. Anushka  200102801v   \n\n                                             Address City_of_work  Telephone  \\\n0                     Post offcie rd, kattikallar 02      Colombo  772065404   \n1                172/c central road, sammanthurai 07     Moratuwa  779510076   \n2                     182, main street, kankeyanadai        Kandy  752877887   \n3                No. 275 Dolakanda, dehiatthakandiya      Negombo  719891755   \n4                               12 avanue, Batticalo   Batticaloa  772045200   \n..                                               ...          ...        ...   \n245                   100/5,Ihala Lunugama,Mandawala       Mannar  716880706   \n246                   100/5,Ihala Lunugama,Mandawala   Kurunegala  716382806   \n247                                   187/1,Biyagama      Colombo  777839117   \n248  16/1A,Kanaththa Rd,\\nKuleegedara,\\nKotadeniyawa      Negombo  775539457   \n249    No.270/7, Sri Wickrama Rajasinghe Rd, Negambo        Kandy  789628367   \n\n    Occupation                                Work  Years of Experience  \\\n0      Plumber      Tank Installation and Cleaning                    3   \n1      Plumber               Kitchen Installations                    1   \n2      Plumber   Kitchen Repairs and Installations                    4   \n3      Plumber               Kitchen Installations                    1   \n4      Plumber               Kitchen Installations                    2   \n..         ...                                 ...                  ...   \n245    Plumber  Bathroom Repairs and Installations                    5   \n246    Plumber                    General Plumbing                    6   \n247    Plumber                    General Plumbing                    7   \n248    Plumber  Bathroom Repairs and Installations                    3   \n249    Plumber               Kitchen Installations                    1   \n\n       Age Group NVQ Level  \n0    Young Adult   Level 3  \n1         Young   Level 2   \n2    Young Adult   Level 4  \n3          Young   Level 2  \n4          Young   Level 2  \n..           ...       ...  \n245        Adult   Level 5  \n246          Old   Level 6  \n247          Old   Level 7  \n248  Young Adult   Level 5  \n249       Young   Level 2   \n\n[250 rows x 11 columns]",
      "text/html": "<div>\n<style scoped>\n    .dataframe tbody tr th:only-of-type {\n        vertical-align: middle;\n    }\n\n    .dataframe tbody tr th {\n        vertical-align: top;\n    }\n\n    .dataframe thead th {\n        text-align: right;\n    }\n</style>\n<table border=\"1\" class=\"dataframe\">\n  <thead>\n    <tr style=\"text-align: right;\">\n      <th></th>\n      <th>ID</th>\n      <th>Name</th>\n      <th>NIC</th>\n      <th>Address</th>\n      <th>City_of_work</th>\n      <th>Telephone</th>\n      <th>Occupation</th>\n      <th>Work</th>\n      <th>Years of Experience</th>\n      <th>Age Group</th>\n      <th>NVQ Level</th>\n    </tr>\n  </thead>\n  <tbody>\n    <tr>\n      <th>0</th>\n      <td>1</td>\n      <td>A. Yaparoopan</td>\n      <td>923311459v</td>\n      <td>Post offcie rd, kattikallar 02</td>\n      <td>Colombo</td>\n      <td>772065404</td>\n      <td>Plumber</td>\n      <td>Tank Installation and Cleaning</td>\n      <td>3</td>\n      <td>Young Adult</td>\n      <td>Level 3</td>\n    </tr>\n    <tr>\n      <th>1</th>\n      <td>2</td>\n      <td>A.B. Mohamed Imran</td>\n      <td>880890760v</td>\n      <td>172/c central road, sammanthurai 07</td>\n      <td>Moratuwa</td>\n      <td>779510076</td>\n      <td>Plumber</td>\n      <td>Kitchen Installations</td>\n      <td>1</td>\n      <td>Young</td>\n      <td>Level 2</td>\n    </tr>\n    <tr>\n      <th>2</th>\n      <td>3</td>\n      <td>B.A Rifath</td>\n      <td>941380891v</td>\n      <td>182, main street, kankeyanadai</td>\n      <td>Kandy</td>\n      <td>752877887</td>\n      <td>Plumber</td>\n      <td>Kitchen Repairs and Installations</td>\n      <td>4</td>\n      <td>Young Adult</td>\n      <td>Level 4</td>\n    </tr>\n    <tr>\n      <th>3</th>\n      <td>4</td>\n      <td>D.M.I.S chathuranga</td>\n      <td>930801801v</td>\n      <td>No. 275 Dolakanda, dehiatthakandiya</td>\n      <td>Negombo</td>\n      <td>719891755</td>\n      <td>Plumber</td>\n      <td>Kitchen Installations</td>\n      <td>1</td>\n      <td>Young</td>\n      <td>Level 2</td>\n    </tr>\n    <tr>\n      <th>4</th>\n      <td>5</td>\n      <td>E. Pirathapan</td>\n      <td>642762230v</td>\n      <td>12 avanue, Batticalo</td>\n      <td>Batticaloa</td>\n      <td>772045200</td>\n      <td>Plumber</td>\n      <td>Kitchen Installations</td>\n      <td>2</td>\n      <td>Young</td>\n      <td>Level 2</td>\n    </tr>\n    <tr>\n      <th>...</th>\n      <td>...</td>\n      <td>...</td>\n      <td>...</td>\n      <td>...</td>\n      <td>...</td>\n      <td>...</td>\n      <td>...</td>\n      <td>...</td>\n      <td>...</td>\n      <td>...</td>\n      <td>...</td>\n    </tr>\n    <tr>\n      <th>245</th>\n      <td>246</td>\n      <td>W.A. I. Weerasinghe</td>\n      <td>952581732v</td>\n      <td>100/5,Ihala Lunugama,Mandawala</td>\n      <td>Mannar</td>\n      <td>716880706</td>\n      <td>Plumber</td>\n      <td>Bathroom Repairs and Installations</td>\n      <td>5</td>\n      <td>Adult</td>\n      <td>Level 5</td>\n    </tr>\n    <tr>\n      <th>246</th>\n      <td>247</td>\n      <td>W.A.?N. Weerasignhe</td>\n      <td>890103464v</td>\n      <td>100/5,Ihala Lunugama,Mandawala</td>\n      <td>Kurunegala</td>\n      <td>716382806</td>\n      <td>Plumber</td>\n      <td>General Plumbing</td>\n      <td>6</td>\n      <td>Old</td>\n      <td>Level 6</td>\n    </tr>\n    <tr>\n      <th>247</th>\n      <td>248</td>\n      <td>W.D.C. Rodrigo</td>\n      <td>772031599v</td>\n      <td>187/1,Biyagama</td>\n      <td>Colombo</td>\n      <td>777839117</td>\n      <td>Plumber</td>\n      <td>General Plumbing</td>\n      <td>7</td>\n      <td>Old</td>\n      <td>Level 7</td>\n    </tr>\n    <tr>\n      <th>248</th>\n      <td>249</td>\n      <td>W.N.P. Harischandra</td>\n      <td>661002328v</td>\n      <td>16/1A,Kanaththa Rd,\\nKuleegedara,\\nKotadeniyawa</td>\n      <td>Negombo</td>\n      <td>775539457</td>\n      <td>Plumber</td>\n      <td>Bathroom Repairs and Installations</td>\n      <td>3</td>\n      <td>Young Adult</td>\n      <td>Level 5</td>\n    </tr>\n    <tr>\n      <th>249</th>\n      <td>250</td>\n      <td>J.M. K. Anushka</td>\n      <td>200102801v</td>\n      <td>No.270/7, Sri Wickrama Rajasinghe Rd, Negambo</td>\n      <td>Kandy</td>\n      <td>789628367</td>\n      <td>Plumber</td>\n      <td>Kitchen Installations</td>\n      <td>1</td>\n      <td>Young</td>\n      <td>Level 2</td>\n    </tr>\n  </tbody>\n</table>\n<p>250 rows × 11 columns</p>\n</div>"
     },
     "execution_count": 5,
     "metadata": {},
     "output_type": "execute_result"
    }
   ],
   "source": [
    "ds.head(250)"
   ]
  },
  {
   "cell_type": "code",
   "execution_count": 6,
   "id": "88745716",
   "metadata": {},
   "outputs": [
    {
     "data": {
      "text/plain": "   ID                 Name  Telephone City_of_work  \\\n0   1        A. Yaparoopan  772065404      Colombo   \n1   2   A.B. Mohamed Imran  779510076     Moratuwa   \n2   3           B.A Rifath  752877887        Kandy   \n3   4  D.M.I.S chathuranga  719891755      Negombo   \n4   5        E. Pirathapan  772045200   Batticaloa   \n\n                                Work  Years of Experience    Age Group  \\\n0     Tank Installation and Cleaning                    3  Young Adult   \n1              Kitchen Installations                    1       Young    \n2  Kitchen Repairs and Installations                    4  Young Adult   \n3              Kitchen Installations                    1        Young   \n4              Kitchen Installations                    2        Young   \n\n  NVQ Level  \n0   Level 3  \n1  Level 2   \n2   Level 4  \n3   Level 2  \n4   Level 2  ",
      "text/html": "<div>\n<style scoped>\n    .dataframe tbody tr th:only-of-type {\n        vertical-align: middle;\n    }\n\n    .dataframe tbody tr th {\n        vertical-align: top;\n    }\n\n    .dataframe thead th {\n        text-align: right;\n    }\n</style>\n<table border=\"1\" class=\"dataframe\">\n  <thead>\n    <tr style=\"text-align: right;\">\n      <th></th>\n      <th>ID</th>\n      <th>Name</th>\n      <th>Telephone</th>\n      <th>City_of_work</th>\n      <th>Work</th>\n      <th>Years of Experience</th>\n      <th>Age Group</th>\n      <th>NVQ Level</th>\n    </tr>\n  </thead>\n  <tbody>\n    <tr>\n      <th>0</th>\n      <td>1</td>\n      <td>A. Yaparoopan</td>\n      <td>772065404</td>\n      <td>Colombo</td>\n      <td>Tank Installation and Cleaning</td>\n      <td>3</td>\n      <td>Young Adult</td>\n      <td>Level 3</td>\n    </tr>\n    <tr>\n      <th>1</th>\n      <td>2</td>\n      <td>A.B. Mohamed Imran</td>\n      <td>779510076</td>\n      <td>Moratuwa</td>\n      <td>Kitchen Installations</td>\n      <td>1</td>\n      <td>Young</td>\n      <td>Level 2</td>\n    </tr>\n    <tr>\n      <th>2</th>\n      <td>3</td>\n      <td>B.A Rifath</td>\n      <td>752877887</td>\n      <td>Kandy</td>\n      <td>Kitchen Repairs and Installations</td>\n      <td>4</td>\n      <td>Young Adult</td>\n      <td>Level 4</td>\n    </tr>\n    <tr>\n      <th>3</th>\n      <td>4</td>\n      <td>D.M.I.S chathuranga</td>\n      <td>719891755</td>\n      <td>Negombo</td>\n      <td>Kitchen Installations</td>\n      <td>1</td>\n      <td>Young</td>\n      <td>Level 2</td>\n    </tr>\n    <tr>\n      <th>4</th>\n      <td>5</td>\n      <td>E. Pirathapan</td>\n      <td>772045200</td>\n      <td>Batticaloa</td>\n      <td>Kitchen Installations</td>\n      <td>2</td>\n      <td>Young</td>\n      <td>Level 2</td>\n    </tr>\n  </tbody>\n</table>\n</div>"
     },
     "execution_count": 6,
     "metadata": {},
     "output_type": "execute_result"
    }
   ],
   "source": [
    "ds = ds[[\"ID\",\"Name\",\"Telephone\",\"City_of_work\", \"Work\", \"Years of Experience\", \"Age Group\", \"NVQ Level\"]]\n",
    "ds = ds.rename({\"ConvertedComp\": \"Plumbers\"}, axis=1)\n",
    "ds.head()"
   ]
  },
  {
   "cell_type": "code",
   "execution_count": 7,
   "id": "caedee55",
   "metadata": {},
   "outputs": [
    {
     "data": {
      "text/plain": "(250, 8)"
     },
     "execution_count": 7,
     "metadata": {},
     "output_type": "execute_result"
    }
   ],
   "source": [
    "ds.shape"
   ]
  },
  {
   "cell_type": "code",
   "execution_count": 8,
   "id": "94389a19",
   "metadata": {},
   "outputs": [
    {
     "name": "stdout",
     "output_type": "stream",
     "text": [
      "<class 'pandas.core.frame.DataFrame'>\n",
      "RangeIndex: 250 entries, 0 to 249\n",
      "Data columns (total 8 columns):\n",
      " #   Column               Non-Null Count  Dtype \n",
      "---  ------               --------------  ----- \n",
      " 0   ID                   250 non-null    int64 \n",
      " 1   Name                 250 non-null    object\n",
      " 2   Telephone            250 non-null    int64 \n",
      " 3   City_of_work         250 non-null    object\n",
      " 4   Work                 250 non-null    object\n",
      " 5   Years of Experience  250 non-null    int64 \n",
      " 6   Age Group            250 non-null    object\n",
      " 7   NVQ Level            250 non-null    object\n",
      "dtypes: int64(3), object(5)\n",
      "memory usage: 15.8+ KB\n"
     ]
    }
   ],
   "source": [
    "ds.info()"
   ]
  },
  {
   "cell_type": "code",
   "execution_count": 9,
   "id": "f4431789",
   "metadata": {},
   "outputs": [
    {
     "data": {
      "text/plain": "ID                     0\nName                   0\nTelephone              0\nCity_of_work           0\nWork                   0\nYears of Experience    0\nAge Group              0\nNVQ Level              0\ndtype: int64"
     },
     "execution_count": 9,
     "metadata": {},
     "output_type": "execute_result"
    }
   ],
   "source": [
    "#Droping null values if any\n",
    "ds = ds.dropna()\n",
    "ds.isnull().sum()"
   ]
  },
  {
   "cell_type": "code",
   "execution_count": 10,
   "id": "87a6056f",
   "metadata": {},
   "outputs": [
    {
     "data": {
      "text/plain": "Colombo                      14\nKandy                        14\nNegombo                      14\nAnuradhapura                 13\nMannar                       13\nMatale                       13\nMullaittivu                  13\nBadulla                      13\nPuttalam                     13\nRatnapura                    13\nJaffna                       13\nMatara                       13\nMoratuwa                     13\nTrincomalee                  13\nGalle                        13\nKilinochchi                  13\nSri Jayewardenepura Kotte    13\nBatticaloa                   13\nKurunegala                   13\nName: City_of_work, dtype: int64"
     },
     "execution_count": 10,
     "metadata": {},
     "output_type": "execute_result"
    }
   ],
   "source": [
    "ds['City_of_work'].value_counts()"
   ]
  },
  {
   "cell_type": "code",
   "execution_count": 11,
   "id": "53ebb66d",
   "metadata": {},
   "outputs": [
    {
     "name": "stdout",
     "output_type": "stream",
     "text": [
      "0         Colombo\n",
      "1        Moratuwa\n",
      "2           Kandy\n",
      "3         Negombo\n",
      "4      Batticaloa\n",
      "          ...    \n",
      "245        Mannar\n",
      "246    Kurunegala\n",
      "247       Colombo\n",
      "248       Negombo\n",
      "249         Kandy\n",
      "Name: City_of_work, Length: 250, dtype: object\n"
     ]
    }
   ],
   "source": [
    "x=ds.City_of_work\n",
    "y=ds['Years of Experience']\n",
    "print(x)"
   ]
  },
  {
   "cell_type": "code",
   "execution_count": 12,
   "id": "45aa5b93",
   "metadata": {},
   "outputs": [
    {
     "name": "stdout",
     "output_type": "stream",
     "text": [
      "0      3\n",
      "1      1\n",
      "2      4\n",
      "3      1\n",
      "4      2\n",
      "      ..\n",
      "245    5\n",
      "246    6\n",
      "247    7\n",
      "248    3\n",
      "249    1\n",
      "Name: Years of Experience, Length: 250, dtype: int64\n"
     ]
    }
   ],
   "source": [
    "print(y)"
   ]
  },
  {
   "cell_type": "code",
   "execution_count": 13,
   "id": "0aaf0309",
   "metadata": {},
   "outputs": [
    {
     "data": {
      "text/plain": "<AxesSubplot:>"
     },
     "execution_count": 13,
     "metadata": {},
     "output_type": "execute_result"
    },
    {
     "data": {
      "text/plain": "<Figure size 720x360 with 1 Axes>",
      "image/png": "[encoded data removed]"
     },
     "metadata": {
      "needs_background": "light"
     },
     "output_type": "display_data"
    }
   ],
   "source": [
    "ds['Years of Experience'].value_counts().plot(x = 'Years of Experience', y ='count', kind = 'bar', figsize = (10,5)  )"
   ]
  },
  {
   "cell_type": "code",
   "execution_count": 14,
   "id": "268f28a5",
   "metadata": {},
   "outputs": [
    {
     "data": {
      "text/plain": "<AxesSubplot:>"
     },
     "execution_count": 14,
     "metadata": {},
     "output_type": "execute_result"
    },
    {
     "data": {
      "text/plain": "<Figure size 720x360 with 1 Axes>",
      "image/png": "[encoded data removed]"
     },
     "metadata": {
      "needs_background": "light"
     },
     "output_type": "display_data"
    }
   ],
   "source": [
    "ds['City_of_work'].value_counts().plot(x = 'City_of_work', y ='count', kind = 'bar', figsize = (10,5)  )"
   ]
  },
  {
   "cell_type": "code",
   "execution_count": 15,
   "id": "4c4b6a5a",
   "metadata": {},
   "outputs": [],
   "source": [
    "from nltk.corpus import stopwords"
   ]
  },
  {
   "cell_type": "code",
   "execution_count": 16,
   "id": "240f1ca7",
   "metadata": {},
   "outputs": [],
   "source": [
    "#Data preprocessing\n",
    "\n",
    "# Function for removing NonAscii characters\n",
    "def _removeNonAscii(s):\n",
    "    return \"\".join(i for i in s if  ord(i)<128)\n",
    "\n",
    "# Function for converting into lower case\n",
    "def make_lower_case(text):\n",
    "    return text.lower()\n",
    "\n",
    "# Function for removing stop words(eg:'is','the', etc..)\n",
    "def remove_stop_words(text):\n",
    "    text = text.split()\n",
    "    stops = set(stopwords.words(\"english\"))\n",
    "    text = [w for w in text if not w in stops]\n",
    "    text = \" \".join(text)\n",
    "    return text\n",
    "\n",
    "# Applying all the functions to city of work column and storing as a cleaned_city_of_work\n",
    "ds['cleaned_city_of_work'] = ds['City_of_work'].apply(_removeNonAscii)\n",
    "ds['cleaned_city_of_work'] = ds.cleaned_city_of_work.apply(func = make_lower_case)\n",
    "ds['cleaned_city_of_work'] = ds.cleaned_city_of_work.apply(func = remove_stop_words)\n"
   ]
  },
  {
   "cell_type": "code",
   "execution_count": 17,
   "id": "506c96c1",
   "metadata": {},
   "outputs": [
    {
     "data": {
      "text/plain": "0                      colombo\n1                     moratuwa\n2                        kandy\n3                      negombo\n4                   batticaloa\n5    sri jayewardenepura kotte\n6                  kilinochchi\n7                        galle\n8                  trincomalee\n9                       jaffna\nName: cleaned_city_of_work, dtype: object"
     },
     "execution_count": 17,
     "metadata": {},
     "output_type": "execute_result"
    }
   ],
   "source": [
    "ds['cleaned_city_of_work'].head(10)"
   ]
  },
  {
   "cell_type": "code",
   "execution_count": 18,
   "id": "9a9a535d",
   "metadata": {},
   "outputs": [],
   "source": [
    "from sklearn.feature_extraction.text import CountVectorizer"
   ]
  },
  {
   "cell_type": "code",
   "execution_count": 19,
   "id": "88f3cc50",
   "metadata": {},
   "outputs": [
    {
     "data": {
      "text/plain": "0       Colombo\n1      Moratuwa\n2         Kandy\n3       Negombo\n4    Batticaloa\nName: City_of_work, dtype: object"
     },
     "execution_count": 19,
     "metadata": {},
     "output_type": "execute_result"
    }
   ],
   "source": [
    "# instantiating and generating the count matrix\n",
    "count = CountVectorizer()\n",
    "count_matrix = count.fit_transform(ds['cleaned_city_of_work'])\n",
    "\n",
    "# creating a Series for the Service Provider City of Work so they are associated to an ordered numerical\n",
    "# list which I will use later to match the indexes\n",
    "indices = pd.Series(ds.City_of_work)\n",
    "indices[:5]"
   ]
  },
  {
   "cell_type": "code",
   "execution_count": 20,
   "id": "19ae4562",
   "metadata": {},
   "outputs": [],
   "source": [
    "from sklearn.metrics.pairwise import cosine_similarity"
   ]
  },
  {
   "cell_type": "code",
   "execution_count": 21,
   "id": "6ed03186",
   "metadata": {},
   "outputs": [
    {
     "data": {
      "text/plain": "array([[1., 0., 0., ..., 1., 0., 0.],\n       [0., 1., 0., ..., 0., 0., 0.],\n       [0., 0., 1., ..., 0., 0., 1.],\n       ...,\n       [1., 0., 0., ..., 1., 0., 0.],\n       [0., 0., 0., ..., 0., 1., 0.],\n       [0., 0., 1., ..., 0., 0., 1.]])"
     },
     "execution_count": 21,
     "metadata": {},
     "output_type": "execute_result"
    }
   ],
   "source": [
    "# generating the cosine similarity matrix\n",
    "cosine_sim = cosine_similarity(count_matrix, count_matrix)\n",
    "cosine_sim"
   ]
  },
  {
   "cell_type": "code",
   "execution_count": 22,
   "id": "475aa830",
   "metadata": {},
   "outputs": [],
   "source": [
    "# function that takes in the work of service provider as input and returns the top 5 recommended service providers\n",
    "def recommendations(City_of_work, cosine_sim = cosine_sim):\n",
    "    \n",
    "    recommended_city = []\n",
    "    recommended_id = []\n",
    "    recommended_name = []\n",
    "    recommended_work = []\n",
    "    recommended_exp = []\n",
    "    recommend =[]\n",
    "    \n",
    "    # gettin the index of the service providers that matches the work\n",
    "    idx = indices[indices == City_of_work].index[0]\n",
    "\n",
    "    # creating a Series with the similarity scores in descending order\n",
    "    score_series = pd.Series(cosine_sim[idx]).sort_values(ascending = False)\n",
    "\n",
    "    # getting the indexes of the 5 most similar service providers\n",
    "    top_5_indexes = list(score_series.iloc[1:11].index)\n",
    "    \n",
    "    # populating the list with the name,city,work and experience of the best 5 matching service providers\n",
    "    for i in top_5_indexes:\n",
    "        recommended_city.append(list(ds['City_of_work'])[i])\n",
    "        recommended_name.append(list(ds['Name'])[i])\n",
    "        recommended_work.append(list(ds['Work'])[i])\n",
    "        recommended_exp.append(list(ds['Years of Experience'])[i])\n",
    "        recommended_id.append(list(ds['ID'])[i])\n",
    "        \n",
    "        \n",
    "        recommend = recommended_id,recommended_name,recommended_city,recommended_work,recommended_exp\n",
    "        \n",
    "    return recommend"
   ]
  },
  {
   "cell_type": "code",
   "execution_count": 23,
   "id": "06d9a87e",
   "metadata": {},
   "outputs": [
    {
     "data": {
      "text/plain": "([211, 173, 21, 78, 154, 116, 230, 192, 135, 97],\n ['R M Sirisena',\n  'Mr.B.M.A.Sanoj Dilshan',\n  'S. Mohamed Insaf',\n  'Mohamed Yoosuf Thasleem',\n  'K.A.K Madusnka',\n  'Mr. Charith Madushanka Boralessa',\n  'E.M.E.G.T.Kumara\\nMadugalla',\n  'Mr.S.L.Rumesh Mihiran',\n  'Mr. SG vishwa Dilshan',\n  'L.M.P.M Lansakara'],\n ['Moratuwa',\n  'Moratuwa',\n  'Moratuwa',\n  'Moratuwa',\n  'Moratuwa',\n  'Moratuwa',\n  'Moratuwa',\n  'Moratuwa',\n  'Moratuwa',\n  'Moratuwa'],\n ['Tank Installation and Cleaning',\n  'Bathroom Repairs and Installations',\n  'Tank Installation and Cleaning',\n  'Tank Installation and Cleaning',\n  'Kitchen Installations',\n  'General Plumbing',\n  'General Plumbing',\n  'Kitchen Installations',\n  'Bathroom Fittings',\n  'General Plumbing'],\n [3, 4, 3, 4, 1, 5, 6, 1, 2, 5])"
     },
     "execution_count": 23,
     "metadata": {},
     "output_type": "execute_result"
    }
   ],
   "source": [
    "recommendations('Moratuwa')"
   ]
  },
  {
   "cell_type": "code",
   "execution_count": 24,
   "id": "d3a55f23",
   "metadata": {},
   "outputs": [],
   "source": [
    "recommend_city_object = recommendations"
   ]
  },
  {
   "cell_type": "code",
   "execution_count": 25,
   "id": "9a626d35",
   "metadata": {},
   "outputs": [],
   "source": [
    "import pickle"
   ]
  },
  {
   "cell_type": "code",
   "execution_count": 26,
   "id": "9822e745",
   "metadata": {},
   "outputs": [],
   "source": [
    "filename = 'city_recommendation'\n",
    "pickle.dump(recommend_city_object, open(filename,'wb'), protocol=pickle.HIGHEST_PROTOCOL)"
   ]
  },
  {
   "cell_type": "code",
   "execution_count": null,
   "outputs": [],
   "source": [],
   "metadata": {
    "collapsed": false,
    "pycharm": {
     "name": "#%%\n"
    }
   }
  }
 ],
 "metadata": {
  "kernelspec": {
   "display_name": "Python 3 (ipykernel)",
   "language": "python",
   "name": "python3"
  },
  "language_info": {
   "codemirror_mode": {
    "name": "ipython",
    "version": 3
   },
   "file_extension": ".py",
   "mimetype": "text/x-python",
   "name": "python",
   "nbconvert_exporter": "python",
   "pygments_lexer": "ipython3",
   "version": "3.9.7"
  }
 },
 "nbformat": 4,
 "nbformat_minor": 5
}